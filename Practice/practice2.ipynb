{
 "cells": [
  {
   "cell_type": "code",
   "execution_count": 12,
   "metadata": {},
   "outputs": [],
   "source": [
    "from splinter import Browser\n",
    "from bs4 import BeautifulSoup as soup\n",
    "from webdriver_manager.chrome import ChromeDriverManager"
   ]
  },
  {
   "cell_type": "code",
   "execution_count": 13,
   "metadata": {},
   "outputs": [
    {
     "name": "stderr",
     "output_type": "stream",
     "text": [
      "[WDM] - \n",
      "\n",
      "[WDM] - ====== WebDriver manager ======\n",
      "[WDM] - Current google-chrome version is 94.0.4606\n",
      "[WDM] - Get LATEST driver version for 94.0.4606\n",
      "[WDM] - Get LATEST driver version for 94.0.4606\n",
      "[WDM] - Trying to download new driver from https://chromedriver.storage.googleapis.com/94.0.4606.61/chromedriver_win32.zip\n",
      "[WDM] - Driver has been saved in cache [C:\\Users\\zkoss\\.wdm\\drivers\\chromedriver\\win32\\94.0.4606.61]\n"
     ]
    }
   ],
   "source": [
    "executable_path = {'executable_path': ChromeDriverManager().install()}\n",
    "browser = Browser('chrome', **executable_path, headless=False)"
   ]
  },
  {
   "cell_type": "code",
   "execution_count": 15,
   "metadata": {},
   "outputs": [],
   "source": [
    "url = 'http://books.toscrape.com/'\n",
    "browser.visit(url)"
   ]
  },
  {
   "cell_type": "code",
   "execution_count": 16,
   "metadata": {},
   "outputs": [],
   "source": [
    "html = browser.html\n",
    "book_soup = soup(html, 'html.parser')"
   ]
  },
  {
   "cell_type": "code",
   "execution_count": 17,
   "metadata": {},
   "outputs": [
    {
     "data": {
      "text/plain": [
       "'All products'"
      ]
     },
     "execution_count": 17,
     "metadata": {},
     "output_type": "execute_result"
    }
   ],
   "source": [
    "title = book_soup.find('h1').text\n",
    "title"
   ]
  },
  {
   "cell_type": "code",
   "execution_count": 19,
   "metadata": {},
   "outputs": [
    {
     "name": "stdout",
     "output_type": "stream",
     "text": [
      "\n",
      "A Light in the ...\n",
      "\n",
      "Tipping the Velvet\n",
      "\n",
      "Soumission\n",
      "\n",
      "Sharp Objects\n",
      "\n",
      "Sapiens: A Brief History ...\n",
      "\n",
      "The Requiem Red\n",
      "\n",
      "The Dirty Little Secrets ...\n",
      "\n",
      "The Coming Woman: A ...\n",
      "\n",
      "The Boys in the ...\n",
      "\n",
      "The Black Maria\n",
      "\n",
      "Starving Hearts (Triangular Trade ...\n",
      "\n",
      "Shakespeare's Sonnets\n",
      "\n",
      "Set Me Free\n",
      "\n",
      "Scott Pilgrim's Precious Little ...\n",
      "\n",
      "Rip it Up and ...\n",
      "\n",
      "Our Band Could Be ...\n",
      "\n",
      "Olio\n",
      "\n",
      "Mesaerion: The Best Science ...\n",
      "\n",
      "Libertarianism for Beginners\n",
      "\n",
      "It's Only the Himalayas\n"
     ]
    }
   ],
   "source": [
    "books_list = book_soup.find('ol', class_='row')\n",
    "# tag_box\n",
    "books = books_list.find_all('a')\n",
    "\n",
    "for book in books:\n",
    "    print(book.text)"
   ]
  }
 ],
 "metadata": {
  "interpreter": {
   "hash": "c1cdfd9c308b3300ec17805c8855c20567c3219a326b45c17d47f4891f0dbbc9"
  },
  "kernelspec": {
   "display_name": "Python 3.7.10 64-bit ('PythonData': conda)",
   "name": "python3"
  },
  "language_info": {
   "codemirror_mode": {
    "name": "ipython",
    "version": 3
   },
   "file_extension": ".py",
   "mimetype": "text/x-python",
   "name": "python",
   "nbconvert_exporter": "python",
   "pygments_lexer": "ipython3",
   "version": "3.7.10"
  },
  "orig_nbformat": 4
 },
 "nbformat": 4,
 "nbformat_minor": 2
}
